{
 "cells": [
  {
   "cell_type": "markdown",
   "id": "4cd5923f-bd2a-4625-8045-126e4c15269b",
   "metadata": {},
   "source": [
    "# (Data Science Tools and Ecosystem)"
   ]
  },
  {
   "cell_type": "markdown",
   "id": "99a88c56-7129-4485-ba39-4a88ec24e4a6",
   "metadata": {},
   "source": [
    "In this notebook, Data Science Tools and Ecosystem are summarized."
   ]
  },
  {
   "cell_type": "markdown",
   "id": "ce27652d-4da7-4079-b354-ef781a605922",
   "metadata": {},
   "source": [
    "**Objectives:**\n",
    "- Popular Languages in Data Science\n",
    "- Data Science Development Platforms\n",
    "- Github and other useful tools"
   ]
  },
  {
   "cell_type": "markdown",
   "id": "6362979e-f3f3-4a70-97c1-a5479e8bb921",
   "metadata": {},
   "source": [
    "Some of the popular languages that Data Scientists use are: \n",
    "1. Python\n",
    "2. R\n",
    "3. Java"
   ]
  },
  {
   "cell_type": "markdown",
   "id": "a9c58f95-011b-4a57-964c-f866180774d7",
   "metadata": {
    "tags": []
   },
   "source": [
    "Some of the commonly used libraries used by Data Scientists include:\n",
    "1. Scipy\n",
    "2. matplotlib\n",
    "3. Keras"
   ]
  },
  {
   "cell_type": "markdown",
   "id": "1495af5b-0d9f-477a-a54e-4271e8179620",
   "metadata": {},
   "source": [
    "| Data Science Tools       | \n",
    "|:-------------------------|\n",
    "| Anaconda Navigator.      | \n",
    "| Amazon Web Services(AWS) |  \n",
    "| IBM Watson.              |"
   ]
  },
  {
   "cell_type": "markdown",
   "id": "046ff9c1-f29a-4477-8bbd-0dc5eaa79c12",
   "metadata": {
    "tags": []
   },
   "source": [
    "### (Below are a few examples of evaluating arithmetic expressions in Python)"
   ]
  },
  {
   "cell_type": "markdown",
   "id": "b405108a-d6a8-47c6-a495-5d115ffdcab0",
   "metadata": {},
   "source": [
    "This a simple arithmetic expression to mutiply then add integers"
   ]
  },
  {
   "cell_type": "code",
   "execution_count": 3,
   "id": "00e799d6-86ef-409b-8bd9-875c30e909be",
   "metadata": {
    "tags": []
   },
   "outputs": [
    {
     "data": {
      "text/plain": [
       "17"
      ]
     },
     "execution_count": 3,
     "metadata": {},
     "output_type": "execute_result"
    }
   ],
   "source": [
    "(3*4)+5"
   ]
  },
  {
   "cell_type": "markdown",
   "id": "3f8bc171-9e37-4267-992d-9f36cff21ed0",
   "metadata": {},
   "source": [
    "This will convert 200 minutes to hours by diving by 60"
   ]
  },
  {
   "cell_type": "code",
   "execution_count": 7,
   "id": "d2f8ae02-7520-47cb-ad0f-d82104e329b2",
   "metadata": {
    "tags": []
   },
   "outputs": [
    {
     "name": "stdout",
     "output_type": "stream",
     "text": [
      "3.3333333333333335\n"
     ]
    }
   ],
   "source": [
    "minutes = 200\n",
    "hours = minutes/60\n",
    "print(hours)"
   ]
  },
  {
   "cell_type": "markdown",
   "id": "100c8525-7ff8-47bf-8482-b5ba9b22342d",
   "metadata": {},
   "source": [
    "## (Author : Gokul Krishna B)"
   ]
  },
  {
   "cell_type": "code",
   "execution_count": null,
   "id": "35976c8a-a935-43fd-a0b2-de734ccf7ad3",
   "metadata": {},
   "outputs": [],
   "source": []
  }
 ],
 "metadata": {
  "kernelspec": {
   "display_name": "Python",
   "language": "python",
   "name": "conda-env-python-py"
  },
  "language_info": {
   "codemirror_mode": {
    "name": "ipython",
    "version": 3
   },
   "file_extension": ".py",
   "mimetype": "text/x-python",
   "name": "python",
   "nbconvert_exporter": "python",
   "pygments_lexer": "ipython3",
   "version": "3.7.12"
  }
 },
 "nbformat": 4,
 "nbformat_minor": 5
}
